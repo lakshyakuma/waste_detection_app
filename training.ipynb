{
  "nbformat": 4,
  "nbformat_minor": 0,
  "metadata": {
    "colab": {
      "provenance": [],
      "gpuType": "T4"
    },
    "kernelspec": {
      "name": "python3",
      "display_name": "Python 3"
    },
    "language_info": {
      "name": "python"
    },
    "accelerator": "GPU"
  },
  "cells": [
    {
      "cell_type": "code",
      "execution_count": 8,
      "metadata": {
        "colab": {
          "base_uri": "https://localhost:8080/"
        },
        "id": "vLZmz6W1YemK",
        "outputId": "b6285653-8bfb-4791-c301-bc3b210bed06"
      },
      "outputs": [
        {
          "output_type": "stream",
          "name": "stdout",
          "text": [
            "Evaluation Metrics\n",
            "Precision (mp):      0.699\n",
            "Recall (mr):         0.834\n",
            "mAP@0.5:             0.848\n",
            "mAP@0.5:0.95:        0.785\n"
          ]
        }
      ],
      "source": [
        "#  Smart Waste Detection with YOLOv8 (Google Colab Notebook)\n",
        "\n",
        "# Install Ultralytics (YOLOv8)\n",
        "!pip install ultralytics\n",
        "\n",
        "# Mount Google Drive to access the dataset\n",
        "from google.colab import drive\n",
        "drive.mount('/content/drive')\n",
        "\n",
        "# Navigate to the dataset directory (update path as needed)\n",
        "%cd /content/drive/MyDrive/waste_project/\n",
        "\n",
        "# Check files (confirm dataset here)\n",
        "!ls /content/drive/MyDrive/waste_project/dataset\n",
        "\n",
        "\n",
        "# Train YOLOv8 on GPU\n",
        "from ultralytics import YOLO\n",
        "\n",
        "model = YOLO('yolov8m.pt')  # Load pre-trained model\n",
        "\n",
        "model.train(\n",
        "    data='waste.yaml',\n",
        "    epochs=30,\n",
        "    imgsz=640,\n",
        "    batch=16,\n",
        "    workers=2,\n",
        "    device=0,   # use GPU\n",
        "    amp=True    # enable mixed precision\n",
        ")\n",
        "\n",
        "from google.colab import files\n",
        "\n",
        "# Upload from your computer\n",
        "uploaded = files.upload()\n",
        "\n",
        "\n",
        "\n",
        "# Predict on a custom test image (update path)\n",
        "from ultralytics import YOLO\n",
        "\n",
        "model = YOLO(\"/content/drive/MyDrive/waste_project/runs/detect/train3/weights/best.pt\")\n",
        "\n",
        "results = model.predict(\n",
        "    source=\"waste_0001.jpeg\",\n",
        "    conf=0.05,\n",
        "    save=True\n",
        ")\n",
        "from ultralytics import YOLO\n",
        "\n",
        "model = YOLO(\"/content/drive/MyDrive/waste_project/runs/detect/train3/weights/best.pt\")\n",
        "metrics = model.val(data=\"/content/drive/MyDrive/waste_project/waste.yaml\")\n",
        "\n",
        "print(\"Evaluation Metrics\")\n",
        "print(f\"Precision (mp):      {metrics.box.mp:.3f}\")\n",
        "print(f\"Recall (mr):         {metrics.box.mr:.3f}\")\n",
        "print(f\"mAP@0.5:             {metrics.box.map50:.3f}\")\n",
        "print(f\"mAP@0.5:0.95:        {metrics.box.map:.3f}\")\n",
        "\n",
        "# Save  trained model to Drive\n",
        "from shutil import copyfile\n",
        "copyfile('runs/detect/train3/weights/best.pt', '/content/drive/MyDrive/waste_detection/best.pt')\n",
        "\n",
        "\n",
        "\n",
        "\n",
        "\n"
      ]
    }
  ]
}